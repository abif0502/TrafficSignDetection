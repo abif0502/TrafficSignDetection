{
  "nbformat": 4,
  "nbformat_minor": 0,
  "metadata": {
    "colab": {
      "name": "Main.ipynb",
      "provenance": [],
      "authorship_tag": "ABX9TyMXWyp36SEHLULiIdUpnUa/",
      "include_colab_link": true
    },
    "kernelspec": {
      "name": "python3",
      "display_name": "Python 3.6.12 64-bit ('tf-env': conda)",
      "metadata": {
        "interpreter": {
          "hash": "939b316f597c9ddd5fa6170faf42a23fa0c32a55f91334251554eff7b87ab82a"
        }
      }
    }
  },
  "cells": [
    {
      "cell_type": "code",
      "execution_count": null,
      "metadata": {},
      "outputs": [],
      "source": []
    }
  ]
}